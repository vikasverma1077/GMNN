{
 "cells": [
  {
   "cell_type": "code",
   "execution_count": 65,
   "metadata": {},
   "outputs": [],
   "source": [
    "import numpy as np\n",
    "from operator import __or__\n",
    "\n",
    "data = np.loadtxt('../data/cora/label.txt').astype(int)\n",
    "labels = data[:,1]\n",
    "n_classes = len(np.unique(labels))\n",
    "\n",
    "\n",
    "n = 10\n",
    "n_valid = 10\n",
    "n_test = 100\n",
    "\n",
    "\n",
    "for i in np.arange(n_classes):\n",
    "    idx= data[labels==i,0]\n",
    "    np.random.shuffle(idx)\n",
    "    \n",
    "    if i==0:\n",
    "        indices_train = idx[:n]\n",
    "        indices_valid = idx[n:n+n_valid]\n",
    "        indices_test = idx[n+n_valid:n+n_valid+n_test]\n",
    "    else:\n",
    "        indices_train = np.hstack((indices_train,idx[:n]))\n",
    "        indices_valid = np.hstack((indices_valid,idx[n:n+n_valid]))\n",
    "        indices_test = np.hstack((indices_test,idx[n+n_valid:n+n_valid+n_test]))\n",
    "    \n",
    "\n",
    "np.random.shuffle(indices_train)\n",
    "np.random.shuffle(indices_valid)\n",
    "np.random.shuffle(indices_test)\n",
    "\n",
    "np.savetxt('../data/cora/train_temp.txt', indices_train, fmt='%d')\n",
    "np.savetxt('../data/cora/dev_temp.txt', indices_valid, fmt='%d')\n",
    "np.savetxt('../data/cora/test_temp.txt', indices_test, fmt='%d')"
   ]
  },
  {
   "cell_type": "code",
   "execution_count": 66,
   "metadata": {
    "scrolled": true
   },
   "outputs": [],
   "source": [
    "labels = []\n",
    "for x in list(indices_test):\n",
    "    temp = data[data[:,0]==x, 1]\n",
    "    labels.append(temp[0])"
   ]
  },
  {
   "cell_type": "code",
   "execution_count": 67,
   "metadata": {},
   "outputs": [
    {
     "name": "stdout",
     "output_type": "stream",
     "text": [
      "[3, 3, 3, 1, 1, 0, 0, 5, 3, 2, 6, 3, 4, 3, 0, 1, 4, 6, 4, 1, 3, 4, 5, 0, 5, 4, 6, 1, 3, 4, 3, 6, 0, 0, 3, 3, 6, 5, 5, 4, 1, 5, 6, 6, 4, 2, 0, 6, 5, 3, 2, 5, 5, 4, 2, 3, 6, 0, 3, 5, 0, 2, 3, 3, 2, 5, 1, 4, 6, 1, 5, 6, 0, 6, 2, 2, 2, 4, 4, 3, 4, 0, 5, 3, 1, 5, 6, 1, 0, 0, 0, 6, 3, 0, 0, 2, 6, 4, 6, 1, 3, 2, 5, 2, 3, 2, 4, 0, 6, 4, 1, 0, 2, 2, 2, 6, 1, 2, 0, 2, 0, 4, 3, 5, 5, 5, 4, 0, 1, 0, 1, 3, 6, 2, 0, 5, 3, 1, 2, 2, 5, 5, 1, 6, 4, 6, 4, 3, 0, 0, 1, 6, 0, 5, 6, 1, 5, 4, 1, 3, 2, 4, 3, 2, 4, 0, 1, 3, 6, 0, 6, 4, 1, 5, 4, 5, 5, 2, 1, 3, 0, 1, 1, 2, 3, 6, 2, 4, 2, 4, 2, 3, 6, 6, 2, 5, 5, 6, 5, 0, 0, 4, 6, 5, 1, 5, 4, 4, 0, 4, 3, 6, 1, 3, 5, 6, 4, 0, 3, 4, 4, 0, 4, 5, 6, 2, 0, 5, 6, 3, 3, 4, 2, 0, 0, 3, 2, 2, 1, 3, 1, 1, 0, 6, 0, 0, 1, 6, 6, 2, 3, 2, 2, 6, 0, 1, 3, 2, 2, 3, 2, 3, 6, 3, 3, 1, 3, 0, 4, 1, 6, 3, 2, 2, 4, 1, 0, 5, 0, 4, 3, 4, 1, 1, 5, 0, 4, 1, 3, 3, 1, 0, 1, 4, 1, 1, 1, 0, 3, 1, 4, 3, 5, 5, 6, 5, 2, 2, 1, 4, 5, 0, 4, 2, 5, 3, 6, 2, 5, 0, 0, 5, 5, 5, 0, 5, 3, 5, 4, 5, 4, 5, 2, 2, 4, 5, 6, 1, 2, 3, 6, 6, 2, 1, 5, 0, 2, 0, 1, 0, 4, 4, 3, 5, 5, 6, 5, 1, 3, 5, 5, 3, 1, 6, 5, 0, 5, 6, 3, 3, 4, 1, 5, 6, 3, 3, 5, 4, 6, 6, 1, 2, 1, 6, 3, 2, 1, 3, 1, 1, 6, 4, 5, 5, 0, 2, 6, 1, 2, 2, 3, 1, 5, 4, 5, 3, 6, 2, 1, 3, 4, 2, 0, 2, 5, 2, 6, 4, 3, 2, 2, 1, 1, 4, 1, 2, 4, 2, 0, 0, 4, 4, 5, 1, 6, 0, 0, 0, 0, 0, 5, 2, 1, 4, 6, 6, 0, 4, 0, 2, 6, 4, 5, 1, 2, 2, 1, 5, 6, 5, 1, 6, 1, 2, 5, 1, 4, 3, 5, 0, 3, 4, 5, 4, 2, 3, 1, 2, 3, 0, 0, 6, 0, 6, 5, 6, 4, 5, 6, 6, 5, 0, 6, 6, 6, 6, 4, 3, 2, 0, 5, 4, 5, 0, 0, 4, 3, 3, 6, 1, 1, 2, 5, 3, 2, 1, 0, 5, 2, 0, 6, 1, 4, 4, 1, 0, 4, 4, 6, 3, 2, 0, 4, 3, 2, 2, 3, 1, 0, 3, 1, 2, 2, 1, 4, 2, 1, 6, 4, 0, 1, 3, 3, 6, 0, 1, 5, 5, 1, 4, 4, 6, 2, 6, 4, 2, 1, 4, 2, 3, 4, 2, 1, 6, 4, 2, 1, 2, 1, 2, 1, 1, 2, 1, 4, 5, 3, 3, 5, 6, 5, 6, 1, 2, 3, 1, 3, 6, 6, 1, 5, 4, 4, 2, 6, 4, 0, 4, 3, 0, 6, 1, 4, 5, 0, 0, 0, 4, 0, 2, 5, 5, 4, 2, 0, 0, 1, 0, 4, 5, 3, 2, 0, 6, 4, 4, 3, 1, 6, 3, 1, 5, 4, 0, 3, 3, 0, 6, 1, 3, 5, 6, 5, 5, 4, 0, 5, 6, 3, 4, 5, 0, 2, 3, 2, 0, 5, 3, 4, 0, 5, 2, 4, 5, 4, 0, 6, 6, 2, 1, 3, 0, 3, 5, 6, 1, 0, 3, 2, 2, 2, 1, 3]\n"
     ]
    }
   ],
   "source": [
    "print(labels)\n"
   ]
  },
  {
   "cell_type": "code",
   "execution_count": 68,
   "metadata": {},
   "outputs": [
    {
     "data": {
      "text/plain": [
       "100"
      ]
     },
     "execution_count": 68,
     "metadata": {},
     "output_type": "execute_result"
    }
   ],
   "source": [
    "(np.asarray(labels)==0).sum()"
   ]
  },
  {
   "cell_type": "code",
   "execution_count": 91,
   "metadata": {},
   "outputs": [
    {
     "name": "stdout",
     "output_type": "stream",
     "text": [
      "80.72200000000001\n",
      "2.0804653325638465\n"
     ]
    }
   ],
   "source": [
    "import numpy as np\n",
    "x = [83.60, 80.10, 80.40,82.10,77.41]\n",
    "x = np.asarray(x)\n",
    "print(x.mean())\n",
    "print(x.std())"
   ]
  },
  {
   "cell_type": "code",
   "execution_count": 92,
   "metadata": {},
   "outputs": [],
   "source": [
    "import matplotlib.pyplot as plt\n",
    "import seaborn as sns"
   ]
  },
  {
   "cell_type": "code",
   "execution_count": 105,
   "metadata": {},
   "outputs": [
    {
     "data": {
      "text/plain": [
       "Text(0,0.5,'Y axis')"
      ]
     },
     "execution_count": 105,
     "metadata": {},
     "output_type": "execute_result"
    },
    {
     "data": {
      "image/png": "[encoded data removed]",
      "text/plain": [
       "<Figure size 720x432 with 1 Axes>"
      ]
     },
     "metadata": {
      "needs_background": "light"
     },
     "output_type": "display_data"
    }
   ],
   "source": [
    "#66.39$\\pm$ 4.26  & 72.91 $\\pm$ \n",
    "\n",
    "X1 =np.asarray([5,10])\n",
    "Y1 = np.asarray([66.39,72.91])\n",
    "Y1_std = np.asarray([4.26, 3.10])\n",
    "\n",
    "# {71.99$\\pm$ 6.46}  & \\textbf{79.30$\\pm $1.36\n",
    "\n",
    "X2 =np.asarray([5,10])\n",
    "Y2 = np.asarray([71.99,79.30])\n",
    "Y2_error = np.asarray([6.46, 1.36])\n",
    "# Defining the figure and fi,gure size\n",
    "fig, ax = plt.subplots(figsize=(10, 6))\n",
    "\n",
    "# Parameters that are same for both lines,\n",
    "# in the form of a dictionary\n",
    "kwargs = dict(ecolor='k', color='k', capsize=2,\n",
    "              elinewidth=1.1, linewidth=0.6, ms=7)\n",
    "\n",
    "# Plotting two data sets with the error bars\n",
    "ax.plot(X1, Y1)\n",
    "ax.fill_between(X1, Y1-Y1_std, Y1+Y1_std ,alpha=0.1, facecolor='r')\n",
    "\n",
    "# Adding legend to the plot    \n",
    "ax.legend(loc='best', frameon=True)\n",
    "\n",
    "# Adding plotting parameters\n",
    "#ax.set_title('Plot of Two Data Sets with Symmetrical Errors', fontsize=14)\n",
    "ax.set_xlabel('X axis', fontsize=12)\n",
    "ax.set_ylabel('Y axis', fontsize=12)\n"
   ]
  },
  {
   "cell_type": "code",
   "execution_count": null,
   "metadata": {},
   "outputs": [],
   "source": []
  }
 ],
 "metadata": {
  "kernelspec": {
   "display_name": "Python 2",
   "language": "python",
   "name": "python2"
  },
  "language_info": {
   "codemirror_mode": {
    "name": "ipython",
    "version": 2
   },
   "file_extension": ".py",
   "mimetype": "text/x-python",
   "name": "python",
   "nbconvert_exporter": "python",
   "pygments_lexer": "ipython2",
   "version": "2.7.15"
  }
 },
 "nbformat": 4,
 "nbformat_minor": 2
}
