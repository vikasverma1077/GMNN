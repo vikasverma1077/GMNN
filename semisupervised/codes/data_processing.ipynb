{
 "cells": [
  {
   "cell_type": "code",
   "execution_count": 45,
   "metadata": {},
   "outputs": [],
   "source": [
    "import numpy as np\n",
    "from operator import __or__\n",
    "\n",
    "data = np.loadtxt('../data/cora/label.txt').astype(int)\n",
    "labels = data[:,1]\n",
    "n_classes = len(np.unique(labels))\n",
    "\n",
    "(indices,) = np.where(reduce(__or__, [labels == i for i in np.arange(n_classes)]))\n",
    "# Ensure uniform distribution of labels\n",
    "np.random.shuffle(indices)\n",
    "        \n",
    "n = 10\n",
    "n_valid = 10\n",
    "n_test = 10\n",
    "indices_train = np.hstack([list(filter(lambda idx: labels[idx] == i, indices))[:n] for i in range(n_classes)])\n",
    "indices_valid = np.hstack([list(filter(lambda idx: labels[idx] == i, indices))[n:n+n_valid] for i in range(n_classes)])\n",
    "indices_test = np.hstack([list(filter(lambda idx: labels[idx] == i, indices))[n+n_valid:n+n_valid+n_test] for i in range(n_classes)])\n",
    "\n",
    "np.random.shuffle(indices_train)\n",
    "np.random.shuffle(indices_valid)\n",
    "np.random.shuffle(indices_test)\n",
    "\n",
    "np.savetxt('../data/cora/train_temp.txt', indices_train, fmt='%d')\n",
    "np.savetxt('../data/cora/dev_temp.txt', indices_valid, fmt='%d')\n",
    "np.savetxt('../data/cora/test_temp.txt', indices_test, fmt='%d')"
   ]
  },
  {
   "cell_type": "code",
   "execution_count": 43,
   "metadata": {
    "scrolled": true
   },
   "outputs": [
    {
     "name": "stdout",
     "output_type": "stream",
     "text": [
      "[ 723  872 1042 1415 1231  623  484  812  703 1157  570  497  504 1201\n",
      "  495  358  814   88  780  247  448 1100  420 1413  593 1608  716 1031\n",
      "  635  971 1309  882  324  412  427 1493  722 1090  673 1305 1112  400\n",
      "  539  346 1067  135  665  537  401 1213  657  713  988 1459  992  953\n",
      " 1588 1496  437 1160 1123  910 1336 1056 1044  102 1398  177  651  582]\n",
      "[ 621 1183 1307  459  234  858 1582  966  516  191 1076   33  170  766\n",
      " 1190 1144  101  699  279 1579  542 1211  783 1371  816  395  848  730\n",
      "  349  961  418 1065 1244   98 1507 1364 1329  849 1229  489  144 1255\n",
      " 1150  760 1227 1006  122  334 1049  967   41  574  376  567  515   56\n",
      "  630   78  290  901  268 1375 1328  261 1022  449  645   49 1387  559]\n",
      "[ 723  872 1042 1415 1231  623  484  812  703 1157  570  497  504 1201\n",
      "  495  358  814   88  780  247  448 1100  420 1413  593 1608  716 1031\n",
      "  635  971 1309  882  324  412  427 1493  722 1090  673 1305 1112  400\n",
      "  539  346 1067  135  665  537  401 1213  657  713  988 1459  992  953\n",
      " 1588 1496  437 1160 1123  910 1336 1056 1044  102 1398  177  651  582]\n"
     ]
    }
   ],
   "source": [
    "print(indices_test)\n",
    "print(indices_train)\n",
    "print(indices_test)"
   ]
  }
 ],
 "metadata": {
  "kernelspec": {
   "display_name": "Python 2",
   "language": "python",
   "name": "python2"
  },
  "language_info": {
   "codemirror_mode": {
    "name": "ipython",
    "version": 2
   },
   "file_extension": ".py",
   "mimetype": "text/x-python",
   "name": "python",
   "nbconvert_exporter": "python",
   "pygments_lexer": "ipython2",
   "version": "2.7.15"
  }
 },
 "nbformat": 4,
 "nbformat_minor": 2
}
