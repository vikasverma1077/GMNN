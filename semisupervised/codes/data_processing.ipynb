{
 "cells": [
  {
   "cell_type": "code",
   "execution_count": 65,
   "metadata": {},
   "outputs": [],
   "source": [
    "import numpy as np\n",
    "from operator import __or__\n",
    "\n",
    "data = np.loadtxt('../data/cora/label.txt').astype(int)\n",
    "labels = data[:,1]\n",
    "n_classes = len(np.unique(labels))\n",
    "\n",
    "\n",
    "n = 10\n",
    "n_valid = 10\n",
    "n_test = 100\n",
    "\n",
    "\n",
    "for i in np.arange(n_classes):\n",
    "    idx= data[labels==i,0]\n",
    "    np.random.shuffle(idx)\n",
    "    \n",
    "    if i==0:\n",
    "        indices_train = idx[:n]\n",
    "        indices_valid = idx[n:n+n_valid]\n",
    "        indices_test = idx[n+n_valid:n+n_valid+n_test]\n",
    "    else:\n",
    "        indices_train = np.hstack((indices_train,idx[:n]))\n",
    "        indices_valid = np.hstack((indices_valid,idx[n:n+n_valid]))\n",
    "        indices_test = np.hstack((indices_test,idx[n+n_valid:n+n_valid+n_test]))\n",
    "    \n",
    "\n",
    "np.random.shuffle(indices_train)\n",
    "np.random.shuffle(indices_valid)\n",
    "np.random.shuffle(indices_test)\n",
    "\n",
    "np.savetxt('../data/cora/train_temp.txt', indices_train, fmt='%d')\n",
    "np.savetxt('../data/cora/dev_temp.txt', indices_valid, fmt='%d')\n",
    "np.savetxt('../data/cora/test_temp.txt', indices_test, fmt='%d')"
   ]
  },
  {
   "cell_type": "code",
   "execution_count": 66,
   "metadata": {
    "scrolled": true
   },
   "outputs": [],
   "source": [
    "labels = []\n",
    "for x in list(indices_test):\n",
    "    temp = data[data[:,0]==x, 1]\n",
    "    labels.append(temp[0])"
   ]
  },
  {
   "cell_type": "code",
   "execution_count": 67,
   "metadata": {},
   "outputs": [
    {
     "name": "stdout",
     "output_type": "stream",
     "text": [
      "[3, 3, 3, 1, 1, 0, 0, 5, 3, 2, 6, 3, 4, 3, 0, 1, 4, 6, 4, 1, 3, 4, 5, 0, 5, 4, 6, 1, 3, 4, 3, 6, 0, 0, 3, 3, 6, 5, 5, 4, 1, 5, 6, 6, 4, 2, 0, 6, 5, 3, 2, 5, 5, 4, 2, 3, 6, 0, 3, 5, 0, 2, 3, 3, 2, 5, 1, 4, 6, 1, 5, 6, 0, 6, 2, 2, 2, 4, 4, 3, 4, 0, 5, 3, 1, 5, 6, 1, 0, 0, 0, 6, 3, 0, 0, 2, 6, 4, 6, 1, 3, 2, 5, 2, 3, 2, 4, 0, 6, 4, 1, 0, 2, 2, 2, 6, 1, 2, 0, 2, 0, 4, 3, 5, 5, 5, 4, 0, 1, 0, 1, 3, 6, 2, 0, 5, 3, 1, 2, 2, 5, 5, 1, 6, 4, 6, 4, 3, 0, 0, 1, 6, 0, 5, 6, 1, 5, 4, 1, 3, 2, 4, 3, 2, 4, 0, 1, 3, 6, 0, 6, 4, 1, 5, 4, 5, 5, 2, 1, 3, 0, 1, 1, 2, 3, 6, 2, 4, 2, 4, 2, 3, 6, 6, 2, 5, 5, 6, 5, 0, 0, 4, 6, 5, 1, 5, 4, 4, 0, 4, 3, 6, 1, 3, 5, 6, 4, 0, 3, 4, 4, 0, 4, 5, 6, 2, 0, 5, 6, 3, 3, 4, 2, 0, 0, 3, 2, 2, 1, 3, 1, 1, 0, 6, 0, 0, 1, 6, 6, 2, 3, 2, 2, 6, 0, 1, 3, 2, 2, 3, 2, 3, 6, 3, 3, 1, 3, 0, 4, 1, 6, 3, 2, 2, 4, 1, 0, 5, 0, 4, 3, 4, 1, 1, 5, 0, 4, 1, 3, 3, 1, 0, 1, 4, 1, 1, 1, 0, 3, 1, 4, 3, 5, 5, 6, 5, 2, 2, 1, 4, 5, 0, 4, 2, 5, 3, 6, 2, 5, 0, 0, 5, 5, 5, 0, 5, 3, 5, 4, 5, 4, 5, 2, 2, 4, 5, 6, 1, 2, 3, 6, 6, 2, 1, 5, 0, 2, 0, 1, 0, 4, 4, 3, 5, 5, 6, 5, 1, 3, 5, 5, 3, 1, 6, 5, 0, 5, 6, 3, 3, 4, 1, 5, 6, 3, 3, 5, 4, 6, 6, 1, 2, 1, 6, 3, 2, 1, 3, 1, 1, 6, 4, 5, 5, 0, 2, 6, 1, 2, 2, 3, 1, 5, 4, 5, 3, 6, 2, 1, 3, 4, 2, 0, 2, 5, 2, 6, 4, 3, 2, 2, 1, 1, 4, 1, 2, 4, 2, 0, 0, 4, 4, 5, 1, 6, 0, 0, 0, 0, 0, 5, 2, 1, 4, 6, 6, 0, 4, 0, 2, 6, 4, 5, 1, 2, 2, 1, 5, 6, 5, 1, 6, 1, 2, 5, 1, 4, 3, 5, 0, 3, 4, 5, 4, 2, 3, 1, 2, 3, 0, 0, 6, 0, 6, 5, 6, 4, 5, 6, 6, 5, 0, 6, 6, 6, 6, 4, 3, 2, 0, 5, 4, 5, 0, 0, 4, 3, 3, 6, 1, 1, 2, 5, 3, 2, 1, 0, 5, 2, 0, 6, 1, 4, 4, 1, 0, 4, 4, 6, 3, 2, 0, 4, 3, 2, 2, 3, 1, 0, 3, 1, 2, 2, 1, 4, 2, 1, 6, 4, 0, 1, 3, 3, 6, 0, 1, 5, 5, 1, 4, 4, 6, 2, 6, 4, 2, 1, 4, 2, 3, 4, 2, 1, 6, 4, 2, 1, 2, 1, 2, 1, 1, 2, 1, 4, 5, 3, 3, 5, 6, 5, 6, 1, 2, 3, 1, 3, 6, 6, 1, 5, 4, 4, 2, 6, 4, 0, 4, 3, 0, 6, 1, 4, 5, 0, 0, 0, 4, 0, 2, 5, 5, 4, 2, 0, 0, 1, 0, 4, 5, 3, 2, 0, 6, 4, 4, 3, 1, 6, 3, 1, 5, 4, 0, 3, 3, 0, 6, 1, 3, 5, 6, 5, 5, 4, 0, 5, 6, 3, 4, 5, 0, 2, 3, 2, 0, 5, 3, 4, 0, 5, 2, 4, 5, 4, 0, 6, 6, 2, 1, 3, 0, 3, 5, 6, 1, 0, 3, 2, 2, 2, 1, 3]\n"
     ]
    }
   ],
   "source": [
    "print(labels)\n"
   ]
  },
  {
   "cell_type": "code",
   "execution_count": 68,
   "metadata": {},
   "outputs": [
    {
     "data": {
      "text/plain": [
       "100"
      ]
     },
     "execution_count": 68,
     "metadata": {},
     "output_type": "execute_result"
    }
   ],
   "source": [
    "(np.asarray(labels)==0).sum()"
   ]
  },
  {
   "cell_type": "code",
   "execution_count": null,
   "metadata": {},
   "outputs": [],
   "source": []
  }
 ],
 "metadata": {
  "kernelspec": {
   "display_name": "Python 2",
   "language": "python",
   "name": "python2"
  },
  "language_info": {
   "codemirror_mode": {
    "name": "ipython",
    "version": 2
   },
   "file_extension": ".py",
   "mimetype": "text/x-python",
   "name": "python",
   "nbconvert_exporter": "python",
   "pygments_lexer": "ipython2",
   "version": "2.7.15"
  }
 },
 "nbformat": 4,
 "nbformat_minor": 2
}
