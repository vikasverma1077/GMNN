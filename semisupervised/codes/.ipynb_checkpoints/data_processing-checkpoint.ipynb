{
 "cells": [
  {
   "cell_type": "code",
   "execution_count": 47,
   "metadata": {},
   "outputs": [],
   "source": [
    "import numpy as np\n",
    "from operator import __or__\n",
    "\n",
    "data = np.loadtxt('../data/cora/label.txt').astype(int)\n",
    "labels = data[:,1]\n",
    "n_classes = len(np.unique(labels))\n",
    "\n",
    "\n",
    "n = 10\n",
    "n_valid = 10\n",
    "n_test = 10\n",
    "\n",
    "\n",
    "for i in np.arange(n_classes):\n",
    "    idx= data[labels==i,0]\n",
    "    np.random.shuffle(idx)\n",
    "    \n",
    "    if i==0:\n",
    "        indices_train = idx[:n]\n",
    "        indices_valid = idx[n:n+n_valid]\n",
    "        indices_test = idx[n+n_valid:n+n_valid+n_test]\n",
    "    else:\n",
    "        indices_train = np.hstack((indices_train,idx[:n]))\n",
    "        indices_valid = np.hstack((indices_valid,idx[n:n+n_valid]))\n",
    "        indices_test = np.hstack((indices_test,idx[n+n_valid:n+n_valid+n_test]))\n",
    "    \n",
    "\n",
    "np.random.shuffle(indices_train)\n",
    "np.random.shuffle(indices_valid)\n",
    "np.random.shuffle(indices_test)\n",
    "\n",
    "np.savetxt('../data/cora/train_temp.txt', indices_train, fmt='%d')\n",
    "np.savetxt('../data/cora/dev_temp.txt', indices_valid, fmt='%d')\n",
    "np.savetxt('../data/cora/test_temp.txt', indices_test, fmt='%d')"
   ]
  },
  {
   "cell_type": "code",
   "execution_count": 52,
   "metadata": {
    "scrolled": true
   },
   "outputs": [
    {
     "ename": "NameError",
     "evalue": "name 'label' is not defined",
     "output_type": "error",
     "traceback": [
      "\u001b[0;31m---------------------------------------------------------------------------\u001b[0m",
      "\u001b[0;31mNameError\u001b[0m                                 Traceback (most recent call last)",
      "\u001b[0;32m<ipython-input-52-4bc759ab9e30>\u001b[0m in \u001b[0;36m<module>\u001b[0;34m()\u001b[0m\n\u001b[1;32m      2\u001b[0m \u001b[0;32mfor\u001b[0m \u001b[0mx\u001b[0m \u001b[0;32min\u001b[0m \u001b[0mlist\u001b[0m\u001b[0;34m(\u001b[0m\u001b[0mindices_train\u001b[0m\u001b[0;34m)\u001b[0m\u001b[0;34m:\u001b[0m\u001b[0;34m\u001b[0m\u001b[0m\n\u001b[1;32m      3\u001b[0m     \u001b[0mtemp\u001b[0m \u001b[0;34m=\u001b[0m \u001b[0mdata\u001b[0m\u001b[0;34m[\u001b[0m\u001b[0mdata\u001b[0m\u001b[0;34m[\u001b[0m\u001b[0;34m:\u001b[0m\u001b[0;34m,\u001b[0m\u001b[0;36m0\u001b[0m\u001b[0;34m]\u001b[0m\u001b[0;34m==\u001b[0m\u001b[0mx\u001b[0m\u001b[0;34m,\u001b[0m \u001b[0;36m1\u001b[0m\u001b[0;34m]\u001b[0m\u001b[0;34m\u001b[0m\u001b[0m\n\u001b[0;32m----> 4\u001b[0;31m     \u001b[0mlabel\u001b[0m\u001b[0;34m.\u001b[0m\u001b[0mappend\u001b[0m\u001b[0;34m(\u001b[0m\u001b[0mtemp\u001b[0m\u001b[0;34m)\u001b[0m\u001b[0;34m\u001b[0m\u001b[0m\n\u001b[0m",
      "\u001b[0;31mNameError\u001b[0m: name 'label' is not defined"
     ]
    }
   ],
   "source": [
    "labels = []\n",
    "for x in list(indices_train):\n",
    "    temp = data[data[:,0]==x, 1]\n",
    "    label.append(temp)"
   ]
  },
  {
   "cell_type": "code",
   "execution_count": null,
   "metadata": {},
   "outputs": [],
   "source": []
  }
 ],
 "metadata": {
  "kernelspec": {
   "display_name": "Python 2",
   "language": "python",
   "name": "python2"
  },
  "language_info": {
   "codemirror_mode": {
    "name": "ipython",
    "version": 2
   },
   "file_extension": ".py",
   "mimetype": "text/x-python",
   "name": "python",
   "nbconvert_exporter": "python",
   "pygments_lexer": "ipython2",
   "version": "2.7.15"
  }
 },
 "nbformat": 4,
 "nbformat_minor": 2
}
